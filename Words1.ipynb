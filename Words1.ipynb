{
  "nbformat": 4,
  "nbformat_minor": 0,
  "metadata": {
    "colab": {
      "name": "Words1.ipynb",
      "provenance": [],
      "include_colab_link": true
    },
    "kernelspec": {
      "name": "python3",
      "display_name": "Python 3"
    }
  },
  "cells": [
    {
      "cell_type": "markdown",
      "metadata": {
        "id": "view-in-github",
        "colab_type": "text"
      },
      "source": [
        "<a href=\"https://colab.research.google.com/github/nlaimr/Intro-Deep-Learning-Notebooks/blob/master/Words1.ipynb\" target=\"_parent\"><img src=\"https://colab.research.google.com/assets/colab-badge.svg\" alt=\"Open In Colab\"/></a>"
      ]
    },
    {
      "cell_type": "code",
      "metadata": {
        "id": "b91yqSIO5cZ-"
      },
      "source": [
        "%matplotlib inline\r\n",
        "\r\n",
        "import tensorflow as tf\r\n",
        "import numpy as np\r\n",
        "import matplotlib.pyplot as plt\r\n",
        "import matplotlib.ticker as ticker\r\n",
        "import urllib\r\n",
        "import sys\r\n",
        "import os\r\n",
        "import zipfile"
      ],
      "execution_count": null,
      "outputs": []
    },
    {
      "cell_type": "code",
      "metadata": {
        "id": "tw9Mc8pd5mf3"
      },
      "source": [
        "glove_zip_file = \"glove.6B.zip\"\r\n",
        "glove_vectors_file = \"glove.6B.50d.txt\"\r\n",
        "\r\n",
        "snli_zip_file = \"snli_1.0.zip\"\r\n",
        "snli_dev_file = \"snli_1.0_dev.txt\"\r\n",
        "snli_full_dataset_file = \"snli_1.0_train.txt\""
      ],
      "execution_count": null,
      "outputs": []
    },
    {
      "cell_type": "code",
      "metadata": {
        "id": "jDzNRKQi5sMk"
      },
      "source": [
        "from six.moves.urllib.request import urlretrieve\r\n",
        "#Takes ~15 minutes\r\n",
        "#large file - 862 MB\r\n",
        "if (not os.path.isfile(glove_zip_file) and\r\n",
        "    not os.path.isfile(glove_vectors_file)):\r\n",
        "    urlretrieve (\"http://nlp.stanford.edu/data/glove.6B.zip\", \r\n",
        "                 glove_zip_file)\r\n",
        "\r\n",
        "#medium-sized file - 94.6 MB\r\n",
        "if (not os.path.isfile(snli_zip_file) and\r\n",
        "    not os.path.isfile(snli_dev_file)):\r\n",
        "    urlretrieve (\"https://nlp.stanford.edu/projects/snli/snli_1.0.zip\", \r\n",
        "                 snli_zip_file)"
      ],
      "execution_count": null,
      "outputs": []
    },
    {
      "cell_type": "code",
      "metadata": {
        "id": "l4FU1--D5utH"
      },
      "source": [
        "def unzip_single_file(zip_file_name, output_file_name):\r\n",
        "    \"\"\"\r\n",
        "        If the outFile is already created, don't recreate\r\n",
        "        If the outFile does not exist, create it from the zipFile\r\n",
        "    \"\"\"\r\n",
        "    if not os.path.isfile(output_file_name):\r\n",
        "        with open(output_file_name, 'wb') as out_file:\r\n",
        "            with zipfile.ZipFile(zip_file_name) as zipped:\r\n",
        "                for info in zipped.infolist():\r\n",
        "                    if output_file_name in info.filename:\r\n",
        "                        with zipped.open(info) as requested_file:\r\n",
        "                            out_file.write(requested_file.read())\r\n",
        "                            return\r\n",
        "\r\n",
        "unzip_single_file(glove_zip_file, glove_vectors_file)\r\n",
        "unzip_single_file(snli_zip_file, snli_dev_file)\r\n",
        "# unzip_single_file(snli_zip_file, snli_full_dataset_file)"
      ],
      "execution_count": null,
      "outputs": []
    },
    {
      "cell_type": "code",
      "metadata": {
        "id": "u3O3ISVL5xGR"
      },
      "source": [
        "glove_wordmap = {}\r\n",
        "with open(glove_vectors_file, \"r\") as glove:\r\n",
        "    for line in glove:\r\n",
        "        name, vector = tuple(line.split(\" \", 1))\r\n",
        "        glove_wordmap[name] = np.fromstring(vector, sep=\" \")"
      ],
      "execution_count": null,
      "outputs": []
    },
    {
      "cell_type": "code",
      "metadata": {
        "id": "rc4-TFWy50h8"
      },
      "source": [
        "def sentence2sequence(sentence):\r\n",
        "    \"\"\"\r\n",
        "     \r\n",
        "    - Turns an input sentence into an (n,d) matrix, \r\n",
        "        where n is the number of tokens in the sentence\r\n",
        "        and d is the number of dimensions each word vector has.\r\n",
        "    \r\n",
        "      Tensorflow doesn't need to be used here, as simply\r\n",
        "      turning the sentence into a sequence based off our \r\n",
        "      mapping does not need the computational power that\r\n",
        "      Tensorflow provides. Normal Python suffices for this task.\r\n",
        "    \"\"\"\r\n",
        "    tokens = sentence.lower().split(\" \")\r\n",
        "    rows = []\r\n",
        "    words = []\r\n",
        "    #Greedy search for tokens\r\n",
        "    for token in tokens:\r\n",
        "        i = len(token)\r\n",
        "        while len(token) > 0 and i > 0:\r\n",
        "            word = token[:i]\r\n",
        "            if word in glove_wordmap:\r\n",
        "                rows.append(glove_wordmap[word])\r\n",
        "                words.append(word)\r\n",
        "                token = token[i:]\r\n",
        "                i = len(token)\r\n",
        "            else:\r\n",
        "                i = i-1\r\n",
        "    return rows, words"
      ],
      "execution_count": null,
      "outputs": []
    },
    {
      "cell_type": "code",
      "metadata": {
        "colab": {
          "base_uri": "https://localhost:8080/",
          "height": 521
        },
        "id": "gyTTaHoL6onU",
        "outputId": "3ae01430-b093-41cf-9a2f-1ba067180252"
      },
      "source": [
        "def visualize(sentence):\r\n",
        "    rows, words = sentence2sequence(sentence)\r\n",
        "    mat = np.vstack(rows)\r\n",
        "    \r\n",
        "    fig = plt.figure()\r\n",
        "    ax = fig.add_subplot(111)\r\n",
        "    shown = ax.matshow(mat, aspect=\"auto\")\r\n",
        "    ax.yaxis.set_major_locator(ticker.MultipleLocator(1))\r\n",
        "    fig.colorbar(shown)\r\n",
        "    \r\n",
        "    ax.set_yticklabels([\"\"]+words)\r\n",
        "    plt.show()\r\n",
        "    \r\n",
        "visualize(\"The quick brown fox jumped over the lazy dog.\")\r\n",
        "visualize(\"The pretty flowers shone in the sunlight.\")"
      ],
      "execution_count": null,
      "outputs": [
        {
          "output_type": "display_data",
          "data": {
            "image/png": "[encoded data removed]",
            "text/plain": [
              "<Figure size 432x288 with 2 Axes>"
            ]
          },
          "metadata": {
            "tags": [],
            "needs_background": "light"
          }
        },
        {
          "output_type": "display_data",
          "data": {
            "image/png": "[encoded data removed]",
            "text/plain": [
              "<Figure size 432x288 with 2 Axes>"
            ]
          },
          "metadata": {
            "tags": [],
            "needs_background": "light"
          }
        }
      ]
    },
    {
      "cell_type": "code",
      "metadata": {
        "id": "u2b6ASFQ7hai"
      },
      "source": [
        "#Constants setup\r\n",
        "max_hypothesis_length, max_evidence_length = 30, 30\r\n",
        "batch_size, vector_size, hidden_size = 128, 50, 64\r\n",
        "\r\n",
        "lstm_size = hidden_size\r\n",
        "\r\n",
        "weight_decay = 0.0001\r\n",
        "\r\n",
        "learning_rate = 1\r\n",
        "\r\n",
        "input_p, output_p = 0.5, 0.5\r\n",
        "\r\n",
        "training_iterations_count = 100000\r\n",
        "\r\n",
        "display_step = 10\r\n",
        "\r\n",
        "def score_setup(row):\r\n",
        "    convert_dict = {\r\n",
        "      'entailment': 0,\r\n",
        "      'neutral': 1,\r\n",
        "      'contradiction': 2\r\n",
        "    }\r\n",
        "    score = np.zeros((3,))\r\n",
        "    for x in range(1,6):\r\n",
        "        tag = row[\"label\"+str(x)]\r\n",
        "        if tag in convert_dict: score[convert_dict[tag]] += 1\r\n",
        "    return score / (1.0*np.sum(score))\r\n",
        "\r\n",
        "def fit_to_size(matrix, shape):\r\n",
        "    res = np.zeros(shape)\r\n",
        "    slices = [slice(0,min(dim,shape[e])) for e, dim in enumerate(matrix.shape)]\r\n",
        "    res[slices] = matrix[slices]\r\n",
        "    return res"
      ],
      "execution_count": null,
      "outputs": []
    },
    {
      "cell_type": "code",
      "metadata": {
        "colab": {
          "base_uri": "https://localhost:8080/"
        },
        "id": "XLA0N2bt7kQw",
        "outputId": "d80ad926-da1b-43fb-c572-8fff271580dc"
      },
      "source": [
        "def split_data_into_scores():\r\n",
        "    import csv\r\n",
        "    with open(\"snli_1.0_dev.txt\",\"r\") as data:\r\n",
        "        train = csv.DictReader(data, delimiter='\\t')\r\n",
        "        evi_sentences = []\r\n",
        "        hyp_sentences = []\r\n",
        "        labels = []\r\n",
        "        scores = []\r\n",
        "        for row in train:\r\n",
        "            hyp_sentences.append(np.vstack(\r\n",
        "                    sentence2sequence(row[\"sentence1\"].lower())[0]))\r\n",
        "            evi_sentences.append(np.vstack(\r\n",
        "                    sentence2sequence(row[\"sentence2\"].lower())[0]))\r\n",
        "            labels.append(row[\"gold_label\"])\r\n",
        "            scores.append(score_setup(row))\r\n",
        "        \r\n",
        "        hyp_sentences = np.stack([fit_to_size(x, (max_hypothesis_length, vector_size))\r\n",
        "                          for x in hyp_sentences])\r\n",
        "        evi_sentences = np.stack([fit_to_size(x, (max_evidence_length, vector_size))\r\n",
        "                          for x in evi_sentences])\r\n",
        "                                 \r\n",
        "        return (hyp_sentences, evi_sentences), labels, np.array(scores)\r\n",
        "    \r\n",
        "data_feature_list, correct_values, correct_scores = split_data_into_scores()\r\n",
        "\r\n",
        "l_h, l_e = max_hypothesis_length, max_evidence_length\r\n",
        "N, D, H = batch_size, vector_size, hidden_size\r\n",
        "l_seq = l_h + l_e"
      ],
      "execution_count": null,
      "outputs": [
        {
          "output_type": "stream",
          "text": [
            "/usr/local/lib/python3.7/dist-packages/ipykernel_launcher.py:32: FutureWarning: Using a non-tuple sequence for multidimensional indexing is deprecated; use `arr[tuple(seq)]` instead of `arr[seq]`. In the future this will be interpreted as an array index, `arr[np.array(seq)]`, which will result either in an error or a different result.\n"
          ],
          "name": "stderr"
        }
      ]
    },
    {
      "cell_type": "code",
      "metadata": {
        "id": "nIqJr4SH75Sd"
      },
      "source": [
        "#tf.reset_default_graph()\r\n",
        "tf.compat.v1.reset_default_graph()"
      ],
      "execution_count": null,
      "outputs": []
    },
    {
      "cell_type": "code",
      "metadata": {
        "colab": {
          "base_uri": "https://localhost:8080/"
        },
        "id": "yI7iVUgo75Xy",
        "outputId": "c5b0c511-60f2-4593-be82-b0e340fb70b5"
      },
      "source": [
        "lstm = tf.compat.v1.nn.rnn_cell.BasicLSTMCell(lstm_size)"
      ],
      "execution_count": null,
      "outputs": [
        {
          "output_type": "stream",
          "text": [
            "/usr/local/lib/python3.7/dist-packages/tensorflow/python/keras/layers/legacy_rnn/rnn_cell_impl.py:702: UserWarning: `tf.nn.rnn_cell.BasicLSTMCell` is deprecated and will be removed in a future version. This class is equivalent as `tf.keras.layers.LSTMCell`, and will be replaced by that in Tensorflow 2.0.\n",
            "  warnings.warn(\"`tf.nn.rnn_cell.BasicLSTMCell` is deprecated and will be \"\n"
          ],
          "name": "stderr"
        }
      ]
    },
    {
      "cell_type": "code",
      "metadata": {
        "id": "lNUmSsEd8CVX"
      },
      "source": [
        "lstm_drop =  tf.compat.v1.nn.rnn_cell.DropoutWrapper(lstm, input_p, output_p)"
      ],
      "execution_count": null,
      "outputs": []
    },
    {
      "cell_type": "code",
      "metadata": {
        "colab": {
          "base_uri": "https://localhost:8080/"
        },
        "id": "RNQ6-oI78CzF",
        "outputId": "db131b25-28b3-433a-c950-ae6dc6546d21"
      },
      "source": [
        "tf.compat.v1.reset_default_graph()\r\n",
        "lstm = tf.compat.v1.nn.rnn_cell.BasicLSTMCell(lstm_size)\r\n",
        "lstm_drop =  tf.compat.v1.nn.rnn_cell.DropoutWrapper(lstm, input_p, output_p)\r\n",
        "# N: The number of elements in each of our batches, \r\n",
        "#   which we use to train subsets of data for efficiency's sake.\r\n",
        "# l_h: The maximum length of a hypothesis, or the second sentence.  This is\r\n",
        "#   used because training an RNN is extraordinarily difficult without \r\n",
        "#   rolling it out to a fixed length.\r\n",
        "# l_e: The maximum length of evidence, the first sentence.  This is used\r\n",
        "#   because training an RNN is extraordinarily difficult without \r\n",
        "#   rolling it out to a fixed length.\r\n",
        "# D: The size of our used GloVe or other vectors.\r\n",
        "tf.compat.v1.disable_eager_execution()\r\n",
        "hyp = tf.compat.v1.placeholder(tf.float32, [N, l_h, D], 'hypothesis')\r\n",
        "evi = tf.compat.v1.placeholder(tf.float32, [N, l_e, D], 'evidence')\r\n",
        "y = tf.compat.v1.placeholder(tf.float32, [N, 3], 'label')\r\n",
        "# hyp: Where the hypotheses will be stored during training.\r\n",
        "# evi: Where the evidences will be stored during training.\r\n",
        "# y: Where correct scores will be stored during training.\r\n",
        "\r\n",
        "# lstm_size: the size of the gates in the LSTM, \r\n",
        "#    as in the first LSTM layer's initialization.\r\n",
        "lstm_back = tf.compat.v1.nn.rnn_cell.BasicLSTMCell(lstm_size)\r\n",
        "# lstm_back:  The LSTM used for looking backwards \r\n",
        "#   through the sentences, similar to lstm.\r\n",
        "\r\n",
        "# input_p: the probability that inputs to the LSTM will be retained at each\r\n",
        "#   iteration of dropout.\r\n",
        "# output_p: the probability that outputs from the LSTM will be retained at \r\n",
        "#   each iteration of dropout.\r\n",
        "lstm_drop_back = tf.compat.v1.nn.rnn_cell.DropoutWrapper(lstm_back, input_p, output_p)\r\n",
        "# lstm_drop_back:  A dropout wrapper for lstm_back, like lstm_drop.\r\n",
        "\r\n",
        "\r\n",
        "fc_initializer = tf.random_normal_initializer(stddev=0.1) \r\n",
        "# fc_initializer: initial values for the fully connected layer's weights.\r\n",
        "# hidden_size: the size of the outputs from each lstm layer.  \r\n",
        "#   Multiplied by 2 to account for the two LSTMs.\r\n",
        "fc_weight = tf.compat.v1.get_variable('fc_weight', [2*hidden_size, 3], initializer = fc_initializer)\r\n",
        "# fc_weight: Storage for the fully connected layer's weights.\r\n",
        "fc_bias = tf.compat.v1.get_variable('bias', [3])\r\n",
        "# fc_bias: Storage for the fully connected layer's bias.\r\n",
        "\r\n",
        "# tf.GraphKeys.REGULARIZATION_LOSSES:  A key to a collection in the graph\r\n",
        "#   designated for losses due to regularization.\r\n",
        "#   In this case, this portion of loss is regularization on the weights\r\n",
        "#   for the fully connected layer.\r\n",
        "tf.compat.v1.add_to_collection(tf.compat.v1.GraphKeys.REGULARIZATION_LOSSES, \r\n",
        "                     tf.nn.l2_loss(fc_weight)) \r\n",
        "\r\n",
        "x = tf.concat([hyp, evi], 1) # N, (Lh+Le), d\r\n",
        "# Permuting batch_size and n_steps\r\n",
        "x = tf.transpose(x, [1, 0, 2]) # (Le+Lh), N, d\r\n",
        "# Reshaping to (n_steps*batch_size, n_input)\r\n",
        "x = tf.reshape(x, [-1, vector_size]) # (Le+Lh)*N, d\r\n",
        "# Split to get a list of 'n_steps' tensors of shape (batch_size, n_input)\r\n",
        "x = tf.split(x, l_seq,)\r\n",
        "\r\n",
        "# x: the inputs to the bidirectional_rnn\r\n",
        "\r\n",
        "\r\n",
        "# tf.contrib.rnn.static_bidirectional_rnn: Runs the input through\r\n",
        "#   two recurrent networks, one that runs the inputs forward and one\r\n",
        "#   that runs the inputs in reversed order, combining the outputs.\r\n",
        "rnn_outputs, _, _ = tf.compat.v1.nn.static_bidirectional_rnn(lstm, lstm_back,\r\n",
        "                                                            x, dtype=tf.float32)\r\n",
        "# rnn_outputs: the list of LSTM outputs, as a list. \r\n",
        "#   What we want is the latest output, rnn_outputs[-1]\r\n",
        "\r\n",
        "classification_scores = tf.matmul(rnn_outputs[-1], fc_weight) + fc_bias\r\n",
        "# The scores are relative certainties for how likely the output matches\r\n",
        "#   a certain entailment: \r\n",
        "#     0: Positive entailment\r\n",
        "#     1: Neutral entailment\r\n",
        "#     2: Negative entailment"
      ],
      "execution_count": null,
      "outputs": [
        {
          "output_type": "stream",
          "text": [
            "WARNING:tensorflow:From <ipython-input-29-41a17d294c7c>:66: static_bidirectional_rnn (from tensorflow.python.ops.rnn) is deprecated and will be removed in a future version.\n",
            "Instructions for updating:\n",
            "Please use `keras.layers.Bidirectional(keras.layers.RNN(cell, unroll=True))`, which is equivalent to this API\n",
            "WARNING:tensorflow:From /usr/local/lib/python3.7/dist-packages/tensorflow/python/ops/rnn.py:1585: static_rnn (from tensorflow.python.ops.rnn) is deprecated and will be removed in a future version.\n",
            "Instructions for updating:\n",
            "Please use `keras.layers.RNN(cell, unroll=True)`, which is equivalent to this API\n",
            "WARNING:tensorflow:From /usr/local/lib/python3.7/dist-packages/tensorflow/python/keras/layers/legacy_rnn/rnn_cell_impl.py:753: calling Zeros.__init__ (from tensorflow.python.ops.init_ops) with dtype is deprecated and will be removed in a future version.\n",
            "Instructions for updating:\n",
            "Call initializer instance with the dtype argument instead of passing it to the constructor\n"
          ],
          "name": "stdout"
        },
        {
          "output_type": "stream",
          "text": [
            "/usr/local/lib/python3.7/dist-packages/tensorflow/python/keras/layers/legacy_rnn/rnn_cell_impl.py:702: UserWarning: `tf.nn.rnn_cell.BasicLSTMCell` is deprecated and will be removed in a future version. This class is equivalent as `tf.keras.layers.LSTMCell`, and will be replaced by that in Tensorflow 2.0.\n",
            "  warnings.warn(\"`tf.nn.rnn_cell.BasicLSTMCell` is deprecated and will be \"\n",
            "/usr/local/lib/python3.7/dist-packages/tensorflow/python/keras/engine/base_layer_v1.py:1727: UserWarning: `layer.add_variable` is deprecated and will be removed in a future version. Please use `layer.add_weight` method instead.\n",
            "  warnings.warn('`layer.add_variable` is deprecated and '\n"
          ],
          "name": "stderr"
        }
      ]
    },
    {
      "cell_type": "code",
      "metadata": {
        "id": "kSl3ImO28C5W"
      },
      "source": [
        "with tf.compat.v1.variable_scope('Accuracy'):\r\n",
        "    predicts = tf.cast(tf.argmax(classification_scores, 1), 'int32')\r\n",
        "    y_label = tf.cast(tf.argmax(y, 1), 'int32')\r\n",
        "    corrects = tf.equal(predicts, y_label)\r\n",
        "    num_corrects = tf.reduce_sum(tf.cast(corrects, tf.float32))\r\n",
        "    accuracy = tf.reduce_mean(tf.cast(corrects, tf.float32))\r\n",
        "\r\n",
        "with tf.compat.v1.variable_scope(\"loss\"):\r\n",
        "    cross_entropy = tf.nn.softmax_cross_entropy_with_logits(\r\n",
        "        logits = classification_scores, labels = y)\r\n",
        "    loss = tf.reduce_mean(cross_entropy)\r\n",
        "    total_loss = loss + weight_decay * tf.add_n(\r\n",
        "        tf.compat.v1.get_collection(tf.compat.v1.GraphKeys.REGULARIZATION_LOSSES))\r\n",
        "\r\n",
        "\r\n",
        "optimizer = tf.compat.v1.train.GradientDescentOptimizer(learning_rate)\r\n",
        "\r\n",
        "opt_op = optimizer.minimize(total_loss)"
      ],
      "execution_count": null,
      "outputs": []
    },
    {
      "cell_type": "code",
      "metadata": {
        "colab": {
          "base_uri": "https://localhost:8080/"
        },
        "id": "mEcKxm-O8USJ",
        "outputId": "ceea9422-2545-4fef-b8e8-63ea73348bfd"
      },
      "source": [
        "# Initialize variables\r\n",
        "init = tf.compat.v1.global_variables_initializer()\r\n",
        "\r\n",
        "# Use TQDM if installed\r\n",
        "tqdm_installed = False\r\n",
        "try:\r\n",
        "    from tqdm import tqdm\r\n",
        "    tqdm_installed = True\r\n",
        "except:\r\n",
        "    pass\r\n",
        "\r\n",
        "# Launch the Tensorflow session\r\n",
        "sess = tf.compat.v1.Session()\r\n",
        "sess.run(init)\r\n",
        "\r\n",
        "# training_iterations_count: The number of data pieces to train on in total\r\n",
        "# batch_size: The number of data pieces per batch\r\n",
        "training_iterations = range(0,training_iterations_count,batch_size)\r\n",
        "if tqdm_installed:\r\n",
        "    # Add a progress bar if TQDM is installed\r\n",
        "    training_iterations = tqdm(training_iterations)\r\n",
        "\r\n",
        "for i in training_iterations:\r\n",
        "\r\n",
        "    # Select indices for a random data subset\r\n",
        "    batch = np.random.randint(data_feature_list[0].shape[0], size=batch_size)\r\n",
        "    \r\n",
        "    # Use the selected subset indices to initialize the graph's \r\n",
        "    #   placeholder values\r\n",
        "    hyps, evis, ys = (data_feature_list[0][batch,:],\r\n",
        "                      data_feature_list[1][batch,:],\r\n",
        "                      correct_scores[batch])\r\n",
        "    \r\n",
        "    # Run the optimization with these initialized values\r\n",
        "    sess.run([opt_op], feed_dict={hyp: hyps, evi: evis, y: ys})\r\n",
        "    # display_step: how often the accuracy and loss should \r\n",
        "    #   be tested and displayed.\r\n",
        "    if (i/batch_size) % display_step == 0:\r\n",
        "        # Calculate batch accuracy\r\n",
        "        acc = sess.run(accuracy, feed_dict={hyp: hyps, evi: evis, y: ys})\r\n",
        "        # Calculate batch loss\r\n",
        "        tmp_loss = sess.run(loss, feed_dict={hyp: hyps, evi: evis, y: ys})\r\n",
        "        # Display results\r\n",
        "        print(\"Iter \" + str(i/batch_size) + \", Minibatch Loss= \" + \\\r\n",
        "              \"{:.6f}\".format(tmp_loss) + \", Training Accuracy= \" + \\\r\n",
        "              \"{:.5f}\".format(acc))"
      ],
      "execution_count": null,
      "outputs": [
        {
          "output_type": "stream",
          "text": [
            "  0%|          | 3/782 [00:02<18:43,  1.44s/it]"
          ],
          "name": "stderr"
        },
        {
          "output_type": "stream",
          "text": [
            "Iter 0.0, Minibatch Loss= 1.136975, Training Accuracy= 0.28906\n"
          ],
          "name": "stdout"
        },
        {
          "output_type": "stream",
          "text": [
            "  2%|▏         | 13/782 [00:02<03:57,  3.24it/s]"
          ],
          "name": "stderr"
        },
        {
          "output_type": "stream",
          "text": [
            "Iter 10.0, Minibatch Loss= 1.083430, Training Accuracy= 0.43750\n"
          ],
          "name": "stdout"
        },
        {
          "output_type": "stream",
          "text": [
            "  3%|▎         | 23/782 [00:03<01:32,  8.23it/s]"
          ],
          "name": "stderr"
        },
        {
          "output_type": "stream",
          "text": [
            "Iter 20.0, Minibatch Loss= 1.097638, Training Accuracy= 0.36719\n"
          ],
          "name": "stdout"
        },
        {
          "output_type": "stream",
          "text": [
            "  4%|▍         | 33/782 [00:04<01:06, 11.29it/s]"
          ],
          "name": "stderr"
        },
        {
          "output_type": "stream",
          "text": [
            "Iter 30.0, Minibatch Loss= 1.093487, Training Accuracy= 0.39844\n"
          ],
          "name": "stdout"
        },
        {
          "output_type": "stream",
          "text": [
            "  5%|▌         | 43/782 [00:05<01:00, 12.21it/s]"
          ],
          "name": "stderr"
        },
        {
          "output_type": "stream",
          "text": [
            "Iter 40.0, Minibatch Loss= 1.085315, Training Accuracy= 0.38281\n"
          ],
          "name": "stdout"
        },
        {
          "output_type": "stream",
          "text": [
            "  7%|▋         | 53/782 [00:06<00:57, 12.58it/s]"
          ],
          "name": "stderr"
        },
        {
          "output_type": "stream",
          "text": [
            "Iter 50.0, Minibatch Loss= 1.093293, Training Accuracy= 0.37500\n"
          ],
          "name": "stdout"
        },
        {
          "output_type": "stream",
          "text": [
            "  8%|▊         | 63/782 [00:06<00:57, 12.54it/s]"
          ],
          "name": "stderr"
        },
        {
          "output_type": "stream",
          "text": [
            "Iter 60.0, Minibatch Loss= 1.077751, Training Accuracy= 0.41406\n"
          ],
          "name": "stdout"
        },
        {
          "output_type": "stream",
          "text": [
            "  9%|▉         | 73/782 [00:07<00:54, 12.90it/s]"
          ],
          "name": "stderr"
        },
        {
          "output_type": "stream",
          "text": [
            "Iter 70.0, Minibatch Loss= 1.086088, Training Accuracy= 0.39062\n"
          ],
          "name": "stdout"
        },
        {
          "output_type": "stream",
          "text": [
            " 11%|█         | 83/782 [00:08<00:54, 12.94it/s]"
          ],
          "name": "stderr"
        },
        {
          "output_type": "stream",
          "text": [
            "Iter 80.0, Minibatch Loss= 1.091801, Training Accuracy= 0.39844\n"
          ],
          "name": "stdout"
        },
        {
          "output_type": "stream",
          "text": [
            " 12%|█▏        | 93/782 [00:09<00:52, 13.04it/s]"
          ],
          "name": "stderr"
        },
        {
          "output_type": "stream",
          "text": [
            "Iter 90.0, Minibatch Loss= 1.082077, Training Accuracy= 0.39062\n"
          ],
          "name": "stdout"
        },
        {
          "output_type": "stream",
          "text": [
            " 13%|█▎        | 103/782 [00:10<00:54, 12.53it/s]"
          ],
          "name": "stderr"
        },
        {
          "output_type": "stream",
          "text": [
            "Iter 100.0, Minibatch Loss= 1.089592, Training Accuracy= 0.37500\n"
          ],
          "name": "stdout"
        },
        {
          "output_type": "stream",
          "text": [
            " 14%|█▍        | 113/782 [00:10<00:53, 12.47it/s]"
          ],
          "name": "stderr"
        },
        {
          "output_type": "stream",
          "text": [
            "Iter 110.0, Minibatch Loss= 1.081927, Training Accuracy= 0.43750\n"
          ],
          "name": "stdout"
        },
        {
          "output_type": "stream",
          "text": [
            " 16%|█▌        | 123/782 [00:11<00:50, 12.95it/s]"
          ],
          "name": "stderr"
        },
        {
          "output_type": "stream",
          "text": [
            "Iter 120.0, Minibatch Loss= 1.075867, Training Accuracy= 0.44531\n"
          ],
          "name": "stdout"
        },
        {
          "output_type": "stream",
          "text": [
            " 17%|█▋        | 133/782 [00:12<00:49, 13.11it/s]"
          ],
          "name": "stderr"
        },
        {
          "output_type": "stream",
          "text": [
            "Iter 130.0, Minibatch Loss= 1.090205, Training Accuracy= 0.38281\n"
          ],
          "name": "stdout"
        },
        {
          "output_type": "stream",
          "text": [
            " 18%|█▊        | 143/782 [00:13<00:50, 12.67it/s]"
          ],
          "name": "stderr"
        },
        {
          "output_type": "stream",
          "text": [
            "Iter 140.0, Minibatch Loss= 1.074253, Training Accuracy= 0.43750\n"
          ],
          "name": "stdout"
        },
        {
          "output_type": "stream",
          "text": [
            " 20%|█▉        | 153/782 [00:13<00:50, 12.53it/s]"
          ],
          "name": "stderr"
        },
        {
          "output_type": "stream",
          "text": [
            "Iter 150.0, Minibatch Loss= 1.085869, Training Accuracy= 0.40625\n"
          ],
          "name": "stdout"
        },
        {
          "output_type": "stream",
          "text": [
            " 21%|██        | 163/782 [00:14<00:47, 13.11it/s]"
          ],
          "name": "stderr"
        },
        {
          "output_type": "stream",
          "text": [
            "Iter 160.0, Minibatch Loss= 1.082695, Training Accuracy= 0.46875\n"
          ],
          "name": "stdout"
        },
        {
          "output_type": "stream",
          "text": [
            " 22%|██▏       | 173/782 [00:15<00:50, 12.14it/s]"
          ],
          "name": "stderr"
        },
        {
          "output_type": "stream",
          "text": [
            "Iter 170.0, Minibatch Loss= 1.074323, Training Accuracy= 0.41406\n"
          ],
          "name": "stdout"
        },
        {
          "output_type": "stream",
          "text": [
            " 23%|██▎       | 183/782 [00:16<00:47, 12.71it/s]"
          ],
          "name": "stderr"
        },
        {
          "output_type": "stream",
          "text": [
            "Iter 180.0, Minibatch Loss= 1.064982, Training Accuracy= 0.44531\n"
          ],
          "name": "stdout"
        },
        {
          "output_type": "stream",
          "text": [
            " 25%|██▍       | 193/782 [00:17<00:46, 12.79it/s]"
          ],
          "name": "stderr"
        },
        {
          "output_type": "stream",
          "text": [
            "Iter 190.0, Minibatch Loss= 1.092553, Training Accuracy= 0.35156\n"
          ],
          "name": "stdout"
        },
        {
          "output_type": "stream",
          "text": [
            " 26%|██▌       | 203/782 [00:17<00:46, 12.44it/s]"
          ],
          "name": "stderr"
        },
        {
          "output_type": "stream",
          "text": [
            "Iter 200.0, Minibatch Loss= 1.072176, Training Accuracy= 0.39844\n"
          ],
          "name": "stdout"
        },
        {
          "output_type": "stream",
          "text": [
            " 27%|██▋       | 213/782 [00:18<00:45, 12.56it/s]"
          ],
          "name": "stderr"
        },
        {
          "output_type": "stream",
          "text": [
            "Iter 210.0, Minibatch Loss= 1.056574, Training Accuracy= 0.49219\n"
          ],
          "name": "stdout"
        },
        {
          "output_type": "stream",
          "text": [
            " 29%|██▊       | 223/782 [00:19<00:43, 12.89it/s]"
          ],
          "name": "stderr"
        },
        {
          "output_type": "stream",
          "text": [
            "Iter 220.0, Minibatch Loss= 1.058067, Training Accuracy= 0.46094\n"
          ],
          "name": "stdout"
        },
        {
          "output_type": "stream",
          "text": [
            " 30%|██▉       | 233/782 [00:20<00:44, 12.21it/s]"
          ],
          "name": "stderr"
        },
        {
          "output_type": "stream",
          "text": [
            "Iter 230.0, Minibatch Loss= 1.079593, Training Accuracy= 0.42188\n"
          ],
          "name": "stdout"
        },
        {
          "output_type": "stream",
          "text": [
            " 31%|███       | 243/782 [00:21<00:42, 12.74it/s]"
          ],
          "name": "stderr"
        },
        {
          "output_type": "stream",
          "text": [
            "Iter 240.0, Minibatch Loss= 1.066616, Training Accuracy= 0.48438\n"
          ],
          "name": "stdout"
        },
        {
          "output_type": "stream",
          "text": [
            " 32%|███▏      | 253/782 [00:21<00:41, 12.60it/s]"
          ],
          "name": "stderr"
        },
        {
          "output_type": "stream",
          "text": [
            "Iter 250.0, Minibatch Loss= 1.126423, Training Accuracy= 0.35156\n"
          ],
          "name": "stdout"
        },
        {
          "output_type": "stream",
          "text": [
            " 34%|███▎      | 263/782 [00:22<00:40, 12.88it/s]"
          ],
          "name": "stderr"
        },
        {
          "output_type": "stream",
          "text": [
            "Iter 260.0, Minibatch Loss= 1.088224, Training Accuracy= 0.42969\n"
          ],
          "name": "stdout"
        },
        {
          "output_type": "stream",
          "text": [
            " 35%|███▍      | 273/782 [00:23<00:39, 12.84it/s]"
          ],
          "name": "stderr"
        },
        {
          "output_type": "stream",
          "text": [
            "Iter 270.0, Minibatch Loss= 1.078143, Training Accuracy= 0.38281\n"
          ],
          "name": "stdout"
        },
        {
          "output_type": "stream",
          "text": [
            " 36%|███▌      | 283/782 [00:24<00:39, 12.79it/s]"
          ],
          "name": "stderr"
        },
        {
          "output_type": "stream",
          "text": [
            "Iter 280.0, Minibatch Loss= 1.049033, Training Accuracy= 0.48438\n"
          ],
          "name": "stdout"
        },
        {
          "output_type": "stream",
          "text": [
            " 37%|███▋      | 293/782 [00:24<00:37, 12.92it/s]"
          ],
          "name": "stderr"
        },
        {
          "output_type": "stream",
          "text": [
            "Iter 290.0, Minibatch Loss= 1.052362, Training Accuracy= 0.42188\n"
          ],
          "name": "stdout"
        },
        {
          "output_type": "stream",
          "text": [
            " 39%|███▊      | 303/782 [00:25<00:37, 12.68it/s]"
          ],
          "name": "stderr"
        },
        {
          "output_type": "stream",
          "text": [
            "Iter 300.0, Minibatch Loss= 1.054415, Training Accuracy= 0.50000\n"
          ],
          "name": "stdout"
        },
        {
          "output_type": "stream",
          "text": [
            " 40%|████      | 313/782 [00:26<00:38, 12.18it/s]"
          ],
          "name": "stderr"
        },
        {
          "output_type": "stream",
          "text": [
            "Iter 310.0, Minibatch Loss= 1.073400, Training Accuracy= 0.39062\n"
          ],
          "name": "stdout"
        },
        {
          "output_type": "stream",
          "text": [
            " 41%|████▏     | 323/782 [00:27<00:34, 13.21it/s]"
          ],
          "name": "stderr"
        },
        {
          "output_type": "stream",
          "text": [
            "Iter 320.0, Minibatch Loss= 1.069999, Training Accuracy= 0.39062\n"
          ],
          "name": "stdout"
        },
        {
          "output_type": "stream",
          "text": [
            " 43%|████▎     | 333/782 [00:27<00:35, 12.73it/s]"
          ],
          "name": "stderr"
        },
        {
          "output_type": "stream",
          "text": [
            "Iter 330.0, Minibatch Loss= 1.039186, Training Accuracy= 0.46094\n"
          ],
          "name": "stdout"
        },
        {
          "output_type": "stream",
          "text": [
            " 44%|████▍     | 343/782 [00:28<00:35, 12.30it/s]"
          ],
          "name": "stderr"
        },
        {
          "output_type": "stream",
          "text": [
            "Iter 340.0, Minibatch Loss= 1.085784, Training Accuracy= 0.35156\n"
          ],
          "name": "stdout"
        },
        {
          "output_type": "stream",
          "text": [
            " 45%|████▌     | 353/782 [00:29<00:32, 13.14it/s]"
          ],
          "name": "stderr"
        },
        {
          "output_type": "stream",
          "text": [
            "Iter 350.0, Minibatch Loss= 1.045801, Training Accuracy= 0.47656\n"
          ],
          "name": "stdout"
        },
        {
          "output_type": "stream",
          "text": [
            " 46%|████▋     | 363/782 [00:30<00:33, 12.46it/s]"
          ],
          "name": "stderr"
        },
        {
          "output_type": "stream",
          "text": [
            "Iter 360.0, Minibatch Loss= 0.999085, Training Accuracy= 0.50781\n"
          ],
          "name": "stdout"
        },
        {
          "output_type": "stream",
          "text": [
            " 48%|████▊     | 373/782 [00:31<00:33, 12.31it/s]"
          ],
          "name": "stderr"
        },
        {
          "output_type": "stream",
          "text": [
            "Iter 370.0, Minibatch Loss= 1.100352, Training Accuracy= 0.38281\n"
          ],
          "name": "stdout"
        },
        {
          "output_type": "stream",
          "text": [
            " 49%|████▉     | 383/782 [00:31<00:34, 11.64it/s]"
          ],
          "name": "stderr"
        },
        {
          "output_type": "stream",
          "text": [
            "Iter 380.0, Minibatch Loss= 1.066147, Training Accuracy= 0.42188\n"
          ],
          "name": "stdout"
        },
        {
          "output_type": "stream",
          "text": [
            " 50%|█████     | 393/782 [00:32<00:31, 12.54it/s]"
          ],
          "name": "stderr"
        },
        {
          "output_type": "stream",
          "text": [
            "Iter 390.0, Minibatch Loss= 1.050909, Training Accuracy= 0.41406\n"
          ],
          "name": "stdout"
        },
        {
          "output_type": "stream",
          "text": [
            " 52%|█████▏    | 403/782 [00:33<00:30, 12.28it/s]"
          ],
          "name": "stderr"
        },
        {
          "output_type": "stream",
          "text": [
            "Iter 400.0, Minibatch Loss= 1.067608, Training Accuracy= 0.47656\n"
          ],
          "name": "stdout"
        },
        {
          "output_type": "stream",
          "text": [
            " 53%|█████▎    | 413/782 [00:34<00:31, 11.84it/s]"
          ],
          "name": "stderr"
        },
        {
          "output_type": "stream",
          "text": [
            "Iter 410.0, Minibatch Loss= 1.046247, Training Accuracy= 0.48438\n"
          ],
          "name": "stdout"
        },
        {
          "output_type": "stream",
          "text": [
            " 54%|█████▍    | 423/782 [00:35<00:28, 12.45it/s]"
          ],
          "name": "stderr"
        },
        {
          "output_type": "stream",
          "text": [
            "Iter 420.0, Minibatch Loss= 1.055891, Training Accuracy= 0.49219\n"
          ],
          "name": "stdout"
        },
        {
          "output_type": "stream",
          "text": [
            " 55%|█████▌    | 433/782 [00:36<00:27, 12.53it/s]"
          ],
          "name": "stderr"
        },
        {
          "output_type": "stream",
          "text": [
            "Iter 430.0, Minibatch Loss= 1.057264, Training Accuracy= 0.43750\n"
          ],
          "name": "stdout"
        },
        {
          "output_type": "stream",
          "text": [
            " 57%|█████▋    | 443/782 [00:36<00:26, 12.66it/s]"
          ],
          "name": "stderr"
        },
        {
          "output_type": "stream",
          "text": [
            "Iter 440.0, Minibatch Loss= 1.067769, Training Accuracy= 0.44531\n"
          ],
          "name": "stdout"
        },
        {
          "output_type": "stream",
          "text": [
            " 58%|█████▊    | 453/782 [00:37<00:25, 12.91it/s]"
          ],
          "name": "stderr"
        },
        {
          "output_type": "stream",
          "text": [
            "Iter 450.0, Minibatch Loss= 1.075984, Training Accuracy= 0.42188\n"
          ],
          "name": "stdout"
        },
        {
          "output_type": "stream",
          "text": [
            " 59%|█████▉    | 463/782 [00:38<00:25, 12.71it/s]"
          ],
          "name": "stderr"
        },
        {
          "output_type": "stream",
          "text": [
            "Iter 460.0, Minibatch Loss= 1.022461, Training Accuracy= 0.50000\n"
          ],
          "name": "stdout"
        },
        {
          "output_type": "stream",
          "text": [
            " 60%|██████    | 473/782 [00:39<00:24, 12.56it/s]"
          ],
          "name": "stderr"
        },
        {
          "output_type": "stream",
          "text": [
            "Iter 470.0, Minibatch Loss= 1.056720, Training Accuracy= 0.41406\n"
          ],
          "name": "stdout"
        },
        {
          "output_type": "stream",
          "text": [
            " 62%|██████▏   | 483/782 [00:39<00:23, 12.49it/s]"
          ],
          "name": "stderr"
        },
        {
          "output_type": "stream",
          "text": [
            "Iter 480.0, Minibatch Loss= 1.103891, Training Accuracy= 0.35156\n"
          ],
          "name": "stdout"
        },
        {
          "output_type": "stream",
          "text": [
            " 63%|██████▎   | 493/782 [00:40<00:22, 12.63it/s]"
          ],
          "name": "stderr"
        },
        {
          "output_type": "stream",
          "text": [
            "Iter 490.0, Minibatch Loss= 1.062147, Training Accuracy= 0.44531\n"
          ],
          "name": "stdout"
        },
        {
          "output_type": "stream",
          "text": [
            " 64%|██████▍   | 503/782 [00:41<00:21, 12.78it/s]"
          ],
          "name": "stderr"
        },
        {
          "output_type": "stream",
          "text": [
            "Iter 500.0, Minibatch Loss= 1.059920, Training Accuracy= 0.43750\n"
          ],
          "name": "stdout"
        },
        {
          "output_type": "stream",
          "text": [
            " 66%|██████▌   | 513/782 [00:42<00:21, 12.40it/s]"
          ],
          "name": "stderr"
        },
        {
          "output_type": "stream",
          "text": [
            "Iter 510.0, Minibatch Loss= 1.055288, Training Accuracy= 0.49219\n"
          ],
          "name": "stdout"
        },
        {
          "output_type": "stream",
          "text": [
            " 67%|██████▋   | 523/782 [00:43<00:20, 12.78it/s]"
          ],
          "name": "stderr"
        },
        {
          "output_type": "stream",
          "text": [
            "Iter 520.0, Minibatch Loss= 1.047576, Training Accuracy= 0.49219\n"
          ],
          "name": "stdout"
        },
        {
          "output_type": "stream",
          "text": [
            " 68%|██████▊   | 533/782 [00:43<00:19, 12.45it/s]"
          ],
          "name": "stderr"
        },
        {
          "output_type": "stream",
          "text": [
            "Iter 530.0, Minibatch Loss= 1.048116, Training Accuracy= 0.46094\n"
          ],
          "name": "stdout"
        },
        {
          "output_type": "stream",
          "text": [
            " 69%|██████▉   | 543/782 [00:44<00:19, 12.08it/s]"
          ],
          "name": "stderr"
        },
        {
          "output_type": "stream",
          "text": [
            "Iter 540.0, Minibatch Loss= 1.060154, Training Accuracy= 0.46094\n"
          ],
          "name": "stdout"
        },
        {
          "output_type": "stream",
          "text": [
            " 71%|███████   | 553/782 [00:45<00:20, 11.05it/s]"
          ],
          "name": "stderr"
        },
        {
          "output_type": "stream",
          "text": [
            "Iter 550.0, Minibatch Loss= 1.055510, Training Accuracy= 0.46094\n"
          ],
          "name": "stdout"
        },
        {
          "output_type": "stream",
          "text": [
            " 72%|███████▏  | 563/782 [00:46<00:18, 11.81it/s]"
          ],
          "name": "stderr"
        },
        {
          "output_type": "stream",
          "text": [
            "Iter 560.0, Minibatch Loss= 1.072870, Training Accuracy= 0.43750\n"
          ],
          "name": "stdout"
        },
        {
          "output_type": "stream",
          "text": [
            " 73%|███████▎  | 573/782 [00:47<00:16, 12.56it/s]"
          ],
          "name": "stderr"
        },
        {
          "output_type": "stream",
          "text": [
            "Iter 570.0, Minibatch Loss= 1.041291, Training Accuracy= 0.43750\n"
          ],
          "name": "stdout"
        },
        {
          "output_type": "stream",
          "text": [
            " 75%|███████▍  | 583/782 [00:48<00:15, 12.48it/s]"
          ],
          "name": "stderr"
        },
        {
          "output_type": "stream",
          "text": [
            "Iter 580.0, Minibatch Loss= 1.062024, Training Accuracy= 0.42969\n"
          ],
          "name": "stdout"
        },
        {
          "output_type": "stream",
          "text": [
            " 76%|███████▌  | 593/782 [00:48<00:15, 12.41it/s]"
          ],
          "name": "stderr"
        },
        {
          "output_type": "stream",
          "text": [
            "Iter 590.0, Minibatch Loss= 1.017965, Training Accuracy= 0.48438\n"
          ],
          "name": "stdout"
        },
        {
          "output_type": "stream",
          "text": [
            " 77%|███████▋  | 603/782 [00:49<00:14, 12.16it/s]"
          ],
          "name": "stderr"
        },
        {
          "output_type": "stream",
          "text": [
            "Iter 600.0, Minibatch Loss= 1.021154, Training Accuracy= 0.51562\n"
          ],
          "name": "stdout"
        },
        {
          "output_type": "stream",
          "text": [
            " 78%|███████▊  | 613/782 [00:50<00:14, 11.56it/s]"
          ],
          "name": "stderr"
        },
        {
          "output_type": "stream",
          "text": [
            "Iter 610.0, Minibatch Loss= 1.038147, Training Accuracy= 0.44531\n"
          ],
          "name": "stdout"
        },
        {
          "output_type": "stream",
          "text": [
            " 80%|███████▉  | 623/782 [00:51<00:13, 12.11it/s]"
          ],
          "name": "stderr"
        },
        {
          "output_type": "stream",
          "text": [
            "Iter 620.0, Minibatch Loss= 1.056486, Training Accuracy= 0.41406\n"
          ],
          "name": "stdout"
        },
        {
          "output_type": "stream",
          "text": [
            " 81%|████████  | 633/782 [00:52<00:11, 12.70it/s]"
          ],
          "name": "stderr"
        },
        {
          "output_type": "stream",
          "text": [
            "Iter 630.0, Minibatch Loss= 1.012101, Training Accuracy= 0.53125\n"
          ],
          "name": "stdout"
        },
        {
          "output_type": "stream",
          "text": [
            " 82%|████████▏ | 643/782 [00:52<00:11, 11.74it/s]"
          ],
          "name": "stderr"
        },
        {
          "output_type": "stream",
          "text": [
            "Iter 640.0, Minibatch Loss= 1.022638, Training Accuracy= 0.53125\n"
          ],
          "name": "stdout"
        },
        {
          "output_type": "stream",
          "text": [
            " 84%|████████▎ | 653/782 [00:53<00:10, 11.73it/s]"
          ],
          "name": "stderr"
        },
        {
          "output_type": "stream",
          "text": [
            "Iter 650.0, Minibatch Loss= 1.011306, Training Accuracy= 0.54688\n"
          ],
          "name": "stdout"
        },
        {
          "output_type": "stream",
          "text": [
            " 85%|████████▍ | 663/782 [00:54<00:10, 11.74it/s]"
          ],
          "name": "stderr"
        },
        {
          "output_type": "stream",
          "text": [
            "Iter 660.0, Minibatch Loss= 1.037687, Training Accuracy= 0.50781\n"
          ],
          "name": "stdout"
        },
        {
          "output_type": "stream",
          "text": [
            " 86%|████████▌ | 673/782 [00:55<00:08, 12.16it/s]"
          ],
          "name": "stderr"
        },
        {
          "output_type": "stream",
          "text": [
            "Iter 670.0, Minibatch Loss= 1.040874, Training Accuracy= 0.51562\n"
          ],
          "name": "stdout"
        },
        {
          "output_type": "stream",
          "text": [
            " 87%|████████▋ | 683/782 [00:56<00:07, 12.63it/s]"
          ],
          "name": "stderr"
        },
        {
          "output_type": "stream",
          "text": [
            "Iter 680.0, Minibatch Loss= 1.029845, Training Accuracy= 0.46094\n"
          ],
          "name": "stdout"
        },
        {
          "output_type": "stream",
          "text": [
            " 89%|████████▊ | 693/782 [00:57<00:07, 12.67it/s]"
          ],
          "name": "stderr"
        },
        {
          "output_type": "stream",
          "text": [
            "Iter 690.0, Minibatch Loss= 1.013664, Training Accuracy= 0.53125\n"
          ],
          "name": "stdout"
        },
        {
          "output_type": "stream",
          "text": [
            " 90%|████████▉ | 703/782 [00:57<00:06, 12.64it/s]"
          ],
          "name": "stderr"
        },
        {
          "output_type": "stream",
          "text": [
            "Iter 700.0, Minibatch Loss= 1.033916, Training Accuracy= 0.47656\n"
          ],
          "name": "stdout"
        },
        {
          "output_type": "stream",
          "text": [
            " 91%|█████████ | 713/782 [00:58<00:05, 12.42it/s]"
          ],
          "name": "stderr"
        },
        {
          "output_type": "stream",
          "text": [
            "Iter 710.0, Minibatch Loss= 1.029265, Training Accuracy= 0.51562\n"
          ],
          "name": "stdout"
        },
        {
          "output_type": "stream",
          "text": [
            " 92%|█████████▏| 723/782 [00:59<00:04, 12.51it/s]"
          ],
          "name": "stderr"
        },
        {
          "output_type": "stream",
          "text": [
            "Iter 720.0, Minibatch Loss= 1.061692, Training Accuracy= 0.47656\n"
          ],
          "name": "stdout"
        },
        {
          "output_type": "stream",
          "text": [
            " 94%|█████████▎| 733/782 [01:00<00:04, 11.99it/s]"
          ],
          "name": "stderr"
        },
        {
          "output_type": "stream",
          "text": [
            "Iter 730.0, Minibatch Loss= 1.026235, Training Accuracy= 0.46875\n"
          ],
          "name": "stdout"
        },
        {
          "output_type": "stream",
          "text": [
            " 95%|█████████▌| 743/782 [01:01<00:03, 12.02it/s]"
          ],
          "name": "stderr"
        },
        {
          "output_type": "stream",
          "text": [
            "Iter 740.0, Minibatch Loss= 1.003820, Training Accuracy= 0.51562\n"
          ],
          "name": "stdout"
        },
        {
          "output_type": "stream",
          "text": [
            " 96%|█████████▋| 753/782 [01:01<00:02, 11.96it/s]"
          ],
          "name": "stderr"
        },
        {
          "output_type": "stream",
          "text": [
            "Iter 750.0, Minibatch Loss= 1.062427, Training Accuracy= 0.42188\n"
          ],
          "name": "stdout"
        },
        {
          "output_type": "stream",
          "text": [
            " 98%|█████████▊| 763/782 [01:02<00:01, 11.94it/s]"
          ],
          "name": "stderr"
        },
        {
          "output_type": "stream",
          "text": [
            "Iter 760.0, Minibatch Loss= 1.080020, Training Accuracy= 0.42969\n"
          ],
          "name": "stdout"
        },
        {
          "output_type": "stream",
          "text": [
            " 99%|█████████▉| 773/782 [01:03<00:00, 11.91it/s]"
          ],
          "name": "stderr"
        },
        {
          "output_type": "stream",
          "text": [
            "Iter 770.0, Minibatch Loss= 1.027566, Training Accuracy= 0.53906\n"
          ],
          "name": "stdout"
        },
        {
          "output_type": "stream",
          "text": [
            "100%|██████████| 782/782 [01:04<00:00, 12.18it/s]"
          ],
          "name": "stderr"
        },
        {
          "output_type": "stream",
          "text": [
            "Iter 780.0, Minibatch Loss= 0.986779, Training Accuracy= 0.56250\n"
          ],
          "name": "stdout"
        },
        {
          "output_type": "stream",
          "text": [
            "\n"
          ],
          "name": "stderr"
        }
      ]
    },
    {
      "cell_type": "code",
      "metadata": {
        "colab": {
          "base_uri": "https://localhost:8080/"
        },
        "id": "mrBjAP_d9bve",
        "outputId": "f7081bcc-1a12-4860-b0ca-b447089ed7e2"
      },
      "source": [
        "evidences = [\"Maurita and Jade both were at the scene of the car crash.\"]\r\n",
        "\r\n",
        "hypotheses = [\"Multiple people saw the accident.\"]\r\n",
        "\r\n",
        "sentence1 = [fit_to_size(np.vstack(sentence2sequence(evidence)[0]),\r\n",
        "                         (30, 50)) for evidence in evidences]\r\n",
        "\r\n",
        "sentence2 = [fit_to_size(np.vstack(sentence2sequence(hypothesis)[0]),\r\n",
        "                         (30,50)) for hypothesis in hypotheses]\r\n",
        "\r\n",
        "prediction = sess.run(classification_scores, feed_dict={hyp: (sentence1 * N),\r\n",
        "                                                        evi: (sentence2 * N),\r\n",
        "                                                        y: [[0,0,0]]*N})\r\n",
        "print([\"Positive\", \"Neutral\", \"Negative\"][np.argmax(prediction[0])]+\r\n",
        "      \" entailment\")"
      ],
      "execution_count": null,
      "outputs": [
        {
          "output_type": "stream",
          "text": [
            "/usr/local/lib/python3.7/dist-packages/ipykernel_launcher.py:32: FutureWarning: Using a non-tuple sequence for multidimensional indexing is deprecated; use `arr[tuple(seq)]` instead of `arr[seq]`. In the future this will be interpreted as an array index, `arr[np.array(seq)]`, which will result either in an error or a different result.\n"
          ],
          "name": "stderr"
        },
        {
          "output_type": "stream",
          "text": [
            "Positive entailment\n"
          ],
          "name": "stdout"
        }
      ]
    },
    {
      "cell_type": "code",
      "metadata": {
        "colab": {
          "base_uri": "https://localhost:8080/"
        },
        "id": "TTH5hs6_C0sk",
        "outputId": "5b66a7e9-ef06-41e7-ffd7-2025501b45ea"
      },
      "source": [
        "evidences = [\"I went to the store yesterday.\"]\r\n",
        "\r\n",
        "hypotheses = [\"My dog is nine.\"]\r\n",
        "\r\n",
        "sentence1 = [fit_to_size(np.vstack(sentence2sequence(evidence)[0]),\r\n",
        "                         (30, 50)) for evidence in evidences]\r\n",
        "\r\n",
        "sentence2 = [fit_to_size(np.vstack(sentence2sequence(hypothesis)[0]),\r\n",
        "                         (30,50)) for hypothesis in hypotheses]\r\n",
        "\r\n",
        "prediction = sess.run(classification_scores, feed_dict={hyp: (sentence1 * N),\r\n",
        "                                                        evi: (sentence2 * N),\r\n",
        "                                                        y: [[0,0,0]]*N})\r\n",
        "print([\"Positive\", \"Neutral\", \"Negative\"][np.argmax(prediction[0])]+\r\n",
        "      \" entailment\")"
      ],
      "execution_count": null,
      "outputs": [
        {
          "output_type": "stream",
          "text": [
            "Positive entailment\n"
          ],
          "name": "stdout"
        },
        {
          "output_type": "stream",
          "text": [
            "/usr/local/lib/python3.7/dist-packages/ipykernel_launcher.py:32: FutureWarning: Using a non-tuple sequence for multidimensional indexing is deprecated; use `arr[tuple(seq)]` instead of `arr[seq]`. In the future this will be interpreted as an array index, `arr[np.array(seq)]`, which will result either in an error or a different result.\n"
          ],
          "name": "stderr"
        }
      ]
    },
    {
      "cell_type": "code",
      "metadata": {
        "id": "avgfyDDq9cb3"
      },
      "source": [
        "sess.close()"
      ],
      "execution_count": null,
      "outputs": []
    }
  ]
}